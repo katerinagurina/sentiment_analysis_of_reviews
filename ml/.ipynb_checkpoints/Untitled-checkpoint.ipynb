{
 "cells": [
  {
   "cell_type": "code",
   "execution_count": 1,
   "id": "d613f56b-e236-4634-b4b6-ba2a8d0bbca0",
   "metadata": {},
   "outputs": [],
   "source": [
    "import sys\n",
    "import os\n",
    "sys.path.insert(0, os.path.dirname(os.getcwd()))\n",
    "\n",
    "import pandas as pd"
   ]
  },
  {
   "cell_type": "code",
   "execution_count": 2,
   "id": "53766be5-d8b2-4fd6-84ae-ebfb2c29794e",
   "metadata": {},
   "outputs": [
    {
     "data": {
      "text/plain": [
       "'C:\\\\Users\\\\Ekaterina.Gurina\\\\Desktop\\\\otus_final_project\\\\ml'"
      ]
     },
     "execution_count": 2,
     "metadata": {},
     "output_type": "execute_result"
    }
   ],
   "source": [
    "os.getcwd()"
   ]
  },
  {
   "cell_type": "code",
   "execution_count": 3,
   "id": "ef37a772-d267-4c21-92ea-8213e03e2ae9",
   "metadata": {},
   "outputs": [],
   "source": [
    "import transformers"
   ]
  },
  {
   "cell_type": "code",
   "execution_count": 4,
   "id": "8eb4fb58-5557-441c-ab27-4c5eaabd6615",
   "metadata": {},
   "outputs": [],
   "source": [
    "DataFilter = transformers.DataFilter()"
   ]
  },
  {
   "cell_type": "code",
   "execution_count": 5,
   "id": "5b058f9c-8927-4bfb-b676-532ea20d7707",
   "metadata": {},
   "outputs": [],
   "source": [
    "df1 = pd.read_csv('../data/train_data.csv')"
   ]
  },
  {
   "cell_type": "code",
   "execution_count": 6,
   "id": "38b6c7f2-f642-49c9-b100-4e157443cc4e",
   "metadata": {},
   "outputs": [],
   "source": [
    "transfromed_df = DataFilter.transform(df1)"
   ]
  },
  {
   "cell_type": "code",
   "execution_count": 7,
   "id": "07b24652-72cd-44fc-9279-8ea0d4efff88",
   "metadata": {},
   "outputs": [
    {
     "data": {
      "text/plain": [
       "Index(['Country', 'Restaurant Name', 'Sentiment', 'Review Title',\n",
       "       'Review Date', 'Review', 'text', 'Label'],\n",
       "      dtype='object')"
      ]
     },
     "execution_count": 7,
     "metadata": {},
     "output_type": "execute_result"
    }
   ],
   "source": [
    "transfromed_df.columns"
   ]
  },
  {
   "cell_type": "code",
   "execution_count": null,
   "id": "67ac41be-60b8-4e90-aa2d-ab86e7eb78ce",
   "metadata": {},
   "outputs": [],
   "source": []
  }
 ],
 "metadata": {
  "kernelspec": {
   "display_name": "Python 3 (ipykernel)",
   "language": "python",
   "name": "python3"
  },
  "language_info": {
   "codemirror_mode": {
    "name": "ipython",
    "version": 3
   },
   "file_extension": ".py",
   "mimetype": "text/x-python",
   "name": "python",
   "nbconvert_exporter": "python",
   "pygments_lexer": "ipython3",
   "version": "3.12.4"
  }
 },
 "nbformat": 4,
 "nbformat_minor": 5
}
